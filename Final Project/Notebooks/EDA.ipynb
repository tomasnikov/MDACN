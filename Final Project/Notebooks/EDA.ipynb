{
 "cells": [
  {
   "cell_type": "code",
   "execution_count": null,
   "metadata": {},
   "outputs": [],
   "source": [
    "import pandas as pd\n",
    "import numpy as np\n",
    "import matplotlib.pyplot as plt\n",
    "import networkx as nx\n",
    "from networkx.algorithms import community\n",
    "from pdb import set_trace"
   ]
  },
  {
   "cell_type": "markdown",
   "metadata": {},
   "source": [
    "Add country names to country adjacency matrix:"
   ]
  },
  {
   "cell_type": "code",
   "execution_count": 6,
   "metadata": {
    "scrolled": true
   },
   "outputs": [],
   "source": [
    "country_names = pd.read_csv('../Data/RefugeeCountries.csv', header=None, names=['Country'])\n",
    "country_adjacency = pd.read_csv('../Data/CountryAdjacency.csv', header=None, names=country_names.Country)\n",
    "country_adjacency.set_index(country_names.Country, inplace=True)\n",
    "country_adjacency.head()\n",
    "\n",
    "country_adjacency_without_names = pd.read_csv('../Data/CountryAdjacency.csv', header=None)"
   ]
  },
  {
   "cell_type": "code",
   "execution_count": 7,
   "metadata": {},
   "outputs": [
    {
     "data": {
      "text/plain": [
       "(214, 214)"
      ]
     },
     "execution_count": 7,
     "metadata": {},
     "output_type": "execute_result"
    }
   ],
   "source": [
    "country_adjacency.shape"
   ]
  },
  {
   "cell_type": "code",
   "execution_count": 16,
   "metadata": {},
   "outputs": [
    {
     "data": {
      "text/plain": [
       "Country\n",
       "Netherlands        1.000000\n",
       "Suriname           1.000000\n",
       "Aruba              1.000000\n",
       "Curaçao            1.000000\n",
       "Belgium            0.541235\n",
       "Greece             0.212000\n",
       "Cyprus             0.185492\n",
       "Myanmar (Burma)    0.158000\n",
       "Estonia            0.156000\n",
       "Iceland            0.153000\n",
       "Name: Netherlands, dtype: float64"
      ]
     },
     "execution_count": 16,
     "metadata": {},
     "output_type": "execute_result"
    }
   ],
   "source": [
    "country_adjacency.Netherlands.sort_values(ascending=False).head(10)"
   ]
  },
  {
   "cell_type": "code",
   "execution_count": 17,
   "metadata": {},
   "outputs": [],
   "source": [
    "def CalculateMetrics(G,Type,adjecencyMatrix):\n",
    "    print(nx.info(G))\n",
    "    weight =nx.is_weighted(G)\n",
    "    print(weight)\n",
    "    print('Link Density: '+str(nx.density(G)))\n",
    "\n",
    "    num_nodes = G.number_of_nodes()\n",
    "    print('Number of nodes: '+str(num_nodes))\n",
    "    num_links = G.number_of_edges()\n",
    "    print('Number of edges: '+str(num_links))\n",
    "\n",
    "    all_links = G.edges()\n",
    "\n",
    "    #print(all_links)\n",
    "\n",
    "    degrees = [0]*(num_nodes + 1)\n",
    "\n",
    "    if Type ==\"Language\":\n",
    "        for i in range(0,len(adjecencyMatrix)):\n",
    "            for j in range(0,len(adjecencyMatrix)):\n",
    "                if (i!=j):\n",
    "                    degrees[i] += adjecencyMatrix[i][j]\n",
    "    if Type==\"Refugee\":\n",
    "       for i in range(0,len(adjecencyMatrix)):\n",
    "            for j in range(0,len(adjecencyMatrix)):\n",
    "                if (i!=j):\n",
    "                    if adjecencyMatrix[i][j]!= 0:\n",
    "                        degrees[i] += 1\n",
    "    #set_trace()\n",
    "    degrees = degrees[1:]\n",
    "\n",
    "    print('average degrees: ', np.mean(degrees))\n",
    "    print('standard dev degrees: ', np.std(degrees))\n",
    "\n",
    "\n",
    "    round_degrees = [int(x) for x in np.round(degrees)]\n",
    "    degree_x = np.arange(1,max(round_degrees)+1)\n",
    "    degree_y = [0]*(max(round_degrees))\n",
    "    for i in range(max(round_degrees)):\n",
    "      degree_y[i] = round_degrees.count(i+1)/num_nodes\n",
    "    fig, ax = plt.subplots()\n",
    "    ax.plot(degree_x, degree_y)\n",
    "    ax.set(xlabel='degree k', ylabel='P[D=k]',\n",
    "           title='Degree distribution for Language Data')\n",
    "    ax.grid()\n",
    "    plt.show()\n",
    "\n",
    "\n",
    "    print(\"Clustering Coefficient: \"+str(nx.average_clustering(G)))\n",
    "    if Type!=\"Refugee\":\n",
    "        print(\"Average Hopcount: \"+ str(nx.average_shortest_path_length(G)))\n",
    "    \n",
    "    #print(\"Betweenness: \"+ str(nx.betweenness_centrality(G)))\n",
    "    print(\"degree_cor: \" + str(nx.degree_pearson_correlation_coefficient(G))) #means that i disassortative\n",
    "\n",
    "    #print(\"Average Node Connectivity:\"+str(nx.average_node_connectivity(G))) #very high since everythong is connected\n",
    "    print(\"Edge Connectivity:\"+str(nx.edge_connectivity(G)))"
   ]
  },
  {
   "cell_type": "markdown",
   "metadata": {},
   "source": [
    "Create graph of language similarity between countries:"
   ]
  },
  {
   "cell_type": "code",
   "execution_count": 18,
   "metadata": {},
   "outputs": [
    {
     "name": "stdout",
     "output_type": "stream",
     "text": [
      "210\n",
      "Name: Language similarity between countries\n",
      "Type: Graph\n",
      "Number of nodes: 214\n",
      "Number of edges: 21973\n",
      "Average degree: 205.3551\n",
      "True\n",
      "Link Density: 0.964108639375192\n",
      "Number of nodes: 214\n",
      "Number of edges: 21973\n",
      "average degrees:  49.201407349338815\n",
      "standard dev degrees:  20.18387048504123\n"
     ]
    },
    {
     "data": {
      "image/png": "[encoded data removed]",
      "text/plain": [
       "<Figure size 432x288 with 1 Axes>"
      ]
     },
     "metadata": {
      "needs_background": "light"
     },
     "output_type": "display_data"
    },
    {
     "name": "stdout",
     "output_type": "stream",
     "text": [
      "Clustering Coefficient: 0.9741982017950676\n"
     ]
    },
    {
     "ename": "NetworkXError",
     "evalue": "Graph is not connected.",
     "output_type": "error",
     "traceback": [
      "\u001b[1;31m---------------------------------------------------------------------------\u001b[0m",
      "\u001b[1;31mNetworkXError\u001b[0m                             Traceback (most recent call last)",
      "\u001b[1;32m<ipython-input-18-f41e48faca9c>\u001b[0m in \u001b[0;36m<module>\u001b[1;34m\u001b[0m\n\u001b[0;32m      5\u001b[0m \u001b[0mprint\u001b[0m\u001b[1;33m(\u001b[0m\u001b[0mlen\u001b[0m\u001b[1;33m(\u001b[0m\u001b[0mc\u001b[0m\u001b[1;33m[\u001b[0m\u001b[1;36m0\u001b[0m\u001b[1;33m]\u001b[0m\u001b[1;33m)\u001b[0m\u001b[1;33m)\u001b[0m\u001b[1;33m\u001b[0m\u001b[1;33m\u001b[0m\u001b[0m\n\u001b[0;32m      6\u001b[0m \u001b[1;33m\u001b[0m\u001b[0m\n\u001b[1;32m----> 7\u001b[1;33m \u001b[0mCalculateMetrics\u001b[0m\u001b[1;33m(\u001b[0m\u001b[0mG\u001b[0m\u001b[1;33m,\u001b[0m\u001b[1;34m\"Language\"\u001b[0m\u001b[1;33m,\u001b[0m\u001b[0mcountry_adjacency_without_names\u001b[0m\u001b[1;33m)\u001b[0m\u001b[1;33m\u001b[0m\u001b[1;33m\u001b[0m\u001b[0m\n\u001b[0m",
      "\u001b[1;32m<ipython-input-17-60a719f2f1cc>\u001b[0m in \u001b[0;36mCalculateMetrics\u001b[1;34m(G, Type, adjecencyMatrix)\u001b[0m\n\u001b[0;32m     49\u001b[0m     \u001b[0mprint\u001b[0m\u001b[1;33m(\u001b[0m\u001b[1;34m\"Clustering Coefficient: \"\u001b[0m\u001b[1;33m+\u001b[0m\u001b[0mstr\u001b[0m\u001b[1;33m(\u001b[0m\u001b[0mnx\u001b[0m\u001b[1;33m.\u001b[0m\u001b[0maverage_clustering\u001b[0m\u001b[1;33m(\u001b[0m\u001b[0mG\u001b[0m\u001b[1;33m)\u001b[0m\u001b[1;33m)\u001b[0m\u001b[1;33m)\u001b[0m\u001b[1;33m\u001b[0m\u001b[1;33m\u001b[0m\u001b[0m\n\u001b[0;32m     50\u001b[0m     \u001b[1;32mif\u001b[0m \u001b[0mType\u001b[0m\u001b[1;33m!=\u001b[0m\u001b[1;34m\"Refugee\"\u001b[0m\u001b[1;33m:\u001b[0m\u001b[1;33m\u001b[0m\u001b[1;33m\u001b[0m\u001b[0m\n\u001b[1;32m---> 51\u001b[1;33m         \u001b[0mprint\u001b[0m\u001b[1;33m(\u001b[0m\u001b[1;34m\"Average Hopcount: \"\u001b[0m\u001b[1;33m+\u001b[0m \u001b[0mstr\u001b[0m\u001b[1;33m(\u001b[0m\u001b[0mnx\u001b[0m\u001b[1;33m.\u001b[0m\u001b[0maverage_shortest_path_length\u001b[0m\u001b[1;33m(\u001b[0m\u001b[0mG\u001b[0m\u001b[1;33m)\u001b[0m\u001b[1;33m)\u001b[0m\u001b[1;33m)\u001b[0m\u001b[1;33m\u001b[0m\u001b[1;33m\u001b[0m\u001b[0m\n\u001b[0m\u001b[0;32m     52\u001b[0m \u001b[1;33m\u001b[0m\u001b[0m\n\u001b[0;32m     53\u001b[0m     \u001b[1;31m#print(\"Betweenness: \"+ str(nx.betweenness_centrality(G)))\u001b[0m\u001b[1;33m\u001b[0m\u001b[1;33m\u001b[0m\u001b[1;33m\u001b[0m\u001b[0m\n",
      "\u001b[1;32m~\\Anaconda3\\lib\\site-packages\\networkx\\algorithms\\shortest_paths\\generic.py\u001b[0m in \u001b[0;36maverage_shortest_path_length\u001b[1;34m(G, weight, method)\u001b[0m\n\u001b[0;32m    391\u001b[0m         \u001b[1;32mraise\u001b[0m \u001b[0mnx\u001b[0m\u001b[1;33m.\u001b[0m\u001b[0mNetworkXError\u001b[0m\u001b[1;33m(\u001b[0m\u001b[1;34m\"Graph is not weakly connected.\"\u001b[0m\u001b[1;33m)\u001b[0m\u001b[1;33m\u001b[0m\u001b[1;33m\u001b[0m\u001b[0m\n\u001b[0;32m    392\u001b[0m     \u001b[1;32mif\u001b[0m \u001b[1;32mnot\u001b[0m \u001b[0mG\u001b[0m\u001b[1;33m.\u001b[0m\u001b[0mis_directed\u001b[0m\u001b[1;33m(\u001b[0m\u001b[1;33m)\u001b[0m \u001b[1;32mand\u001b[0m \u001b[1;32mnot\u001b[0m \u001b[0mnx\u001b[0m\u001b[1;33m.\u001b[0m\u001b[0mis_connected\u001b[0m\u001b[1;33m(\u001b[0m\u001b[0mG\u001b[0m\u001b[1;33m)\u001b[0m\u001b[1;33m:\u001b[0m\u001b[1;33m\u001b[0m\u001b[1;33m\u001b[0m\u001b[0m\n\u001b[1;32m--> 393\u001b[1;33m         \u001b[1;32mraise\u001b[0m \u001b[0mnx\u001b[0m\u001b[1;33m.\u001b[0m\u001b[0mNetworkXError\u001b[0m\u001b[1;33m(\u001b[0m\u001b[1;34m\"Graph is not connected.\"\u001b[0m\u001b[1;33m)\u001b[0m\u001b[1;33m\u001b[0m\u001b[1;33m\u001b[0m\u001b[0m\n\u001b[0m\u001b[0;32m    394\u001b[0m     \u001b[1;31m# Compute all-pairs shortest paths.\u001b[0m\u001b[1;33m\u001b[0m\u001b[1;33m\u001b[0m\u001b[1;33m\u001b[0m\u001b[0m\n\u001b[0;32m    395\u001b[0m \u001b[1;33m\u001b[0m\u001b[0m\n",
      "\u001b[1;31mNetworkXError\u001b[0m: Graph is not connected."
     ]
    }
   ],
   "source": [
    "G = nx.from_pandas_adjacency(country_adjacency.T)\n",
    "G.name = 'Language similarity between countries'\n",
    "#can not partition to more than one clique for our graph\n",
    "c=list(community.k_clique_communities(G,2))\n",
    "print(len(c[0]))\n",
    "\n",
    "CalculateMetrics(G,\"Language\",country_adjacency_without_names)"
   ]
  },
  {
   "cell_type": "code",
   "execution_count": null,
   "metadata": {},
   "outputs": [],
   "source": [
    "plt.figure(figsize=(10,10))\n",
    "pos = nx.spring_layout(G)\n",
    "nx.draw_networkx_nodes(G, pos, alpha=0.1)\n",
    "nx.draw_networkx_labels(G, pos)\n",
    "nx.draw_networkx_edges(G, pos, alpha=0.1)\n",
    "plt.show()"
   ]
  },
  {
   "cell_type": "markdown",
   "metadata": {},
   "source": [
    "Read one year of refugee data, rows denote country of asylum, columns denote country of origin."
   ]
  },
  {
   "cell_type": "code",
   "execution_count": 19,
   "metadata": {},
   "outputs": [],
   "source": [
    "refugee_data_folder = '../Data/RefugeeMatrices/'\n",
    "years =range(2007,2017)\n",
    "yearInfo = dict()\n",
    "for i in years:\n",
    "    yearMatrix_no_name = pd.read_csv(refugee_data_folder + 'RefugeeAdjacency'+str(i)+'.csv', header=None,dtype=int)   \n",
    "    \n",
    "    yearMatrix = pd.read_csv(refugee_data_folder + 'RefugeeAdjacency'+str(i)+'.csv', header=None, names=country_names.Country, dtype=int)\n",
    "    yearMatrix.set_index(country_names.Country, inplace=True)\n",
    "    yearMatrix.head()\n",
    "    \n",
    "    #Convert refugee adjacency matrix to percentage refugees of origin country:\n",
    "    normalizedMatrix = yearMatrix.div(yearMatrix.sum(axis=0), axis=1)\n",
    "    normalizedMatrix.fillna(0, inplace=True)\n",
    "    \n",
    "    #only include values that are above this threshold\n",
    "    threshold = 0.85\n",
    "    refugee_masked = yearMatrix.mask(normalizedMatrix < threshold, 0)\n",
    "    \n",
    "    #Create directed graph with networkx from adjacency df. Transpose df because networkx uses rows as source nodes and columns as target nodes. Remove nodes that have less refugees than certain threshold and create two graphs of language similarity and refugees.\n",
    "    Graph = nx.from_pandas_adjacency(refugee_masked.T, create_using=nx.DiGraph())\n",
    "    Graph.name = 'Refugee '+ str(i)\n",
    "    Graph_no_index = nx.from_pandas_adjacency(yearMatrix.T, create_using=nx.DiGraph())\n",
    "    Graph_no_index.name = 'Refugee '+ str(i)\n",
    "    \n",
    "    entry={'year':str(i),'matrix_without_names':yearMatrix_no_name,'matrix_with_names':yearMatrix,'normalized_with_names':normalizedMatrix,'graph':Graph ,'graph_no_index':Graph_no_index , 'countRefugees': 0,'Origin_Countpercountry':{},'Asylum_Countpercountry':{}}\n",
    "   \n",
    "    yearInfo[str(i)]=entry\n",
    "    \n",
    "for year in years:\n",
    "    matrix = yearInfo[str(year)]['matrix_without_names']\n",
    "    names = country_names.Country\n",
    "    countAll =0\n",
    "    for i in range(0,len(matrix)):\n",
    "            Origin_count=0\n",
    "            Asylum_count=0\n",
    "            for j in range(0,len(matrix)):\n",
    "                Origin_count+=matrix[i][j]\n",
    "                Asylum_count +=matrix[j][i]\n",
    "                countAll += matrix[i][j]\n",
    "            yearInfo[str(year)]['Origin_Countpercountry'][names[i]]=Origin_count\n",
    "            yearInfo[str(year)]['Asylum_Countpercountry'][names[i]]=Asylum_count\n",
    "    yearInfo[str(year)]['countRefugees'] =countAll"
   ]
  },
  {
   "cell_type": "code",
   "execution_count": 20,
   "metadata": {},
   "outputs": [
    {
     "name": "stdout",
     "output_type": "stream",
     "text": [
      "       0     1    2    3     4    5    6    7     8    9    ...   204  205  \\\n",
      "0        0     0    0    0     0    0    0    0     0    0  ...     0    0   \n",
      "1        0     0    0    0     0    0    0    0     0    0  ...     0    0   \n",
      "2        2     0    0    0     0    0    0    0     0    0  ...     0    0   \n",
      "3        0     0    0    0     0    0    0    0     0    0  ...     0    0   \n",
      "4        0     0    1    0     0    0    0    0     0    0  ...     0    0   \n",
      "5        0     0    0    0     0    0    0    0     0    0  ...     0    0   \n",
      "6        0     0    0    0     0    0    0    0     0    0  ...     0    0   \n",
      "7        5    18   31    0    14    0    0    0    79    0  ...     4    0   \n",
      "8        0     0    0    0     0    0    0    0     0    0  ...     0    0   \n",
      "9        0     0    0    0     0    0    0    0     0    0  ...     0    0   \n",
      "10    9217    58   10    0     1    0    0    1     1    0  ...    20    0   \n",
      "11   20220    93   53    0   105    0    0    0   856    0  ...     3    0   \n",
      "12     562     0    0    0     0    0    0    0     0    0  ...     0    0   \n",
      "13       0     0    0    0     0    0    0    0     0    0  ...     0    0   \n",
      "14       0     0    0    0     0    0    0    0     0    0  ...     0    0   \n",
      "15       0     0    0    0     0    0    0    0     0    0  ...     0    0   \n",
      "16       0     0    0    0     0    0    0    0     0    0  ...     0    0   \n",
      "17     227     0    0    0     0    0    0    0     3    0  ...     0    0   \n",
      "18    3201   534   46    0    91    0    0    0   127    0  ...     0    1   \n",
      "19       0     0    0    0     0    0    0    0     0    0  ...     0    0   \n",
      "20       0     0    0    0     0    0    0    0     0    0  ...     0    0   \n",
      "21       0     0    0    0     0    0    0    0     0    0  ...     0    0   \n",
      "22       0     0    0    0     0    0    0    0     0    0  ...     0    0   \n",
      "23       0     0    0    0     1    0    0    0     0    0  ...     0    0   \n",
      "24       0     0    1    0     0    0    0    0     0    0  ...     0    0   \n",
      "25       0     0    1    0     2    0    0    0     0    0  ...     0    0   \n",
      "26      98     0    7    0  1109    0    0   11     3    0  ...     1    1   \n",
      "27       0     0    0    0     0    0    0    0     0    0  ...     0    0   \n",
      "28       0     0    0    0     0    0    0    0     0    0  ...     0    0   \n",
      "29     170     0    2    0     0    0    0    0    18    0  ...     0    0   \n",
      "..     ...   ...  ...  ...   ...  ...  ...  ...   ...  ...  ...   ...  ...   \n",
      "184  16558   351   67    0    73    0    0    1   593    0  ...    20    0   \n",
      "185   5675    67  149    0   846    0    0    2   117    0  ...     1    1   \n",
      "186   1186     0    6    0     0    0    0    0     0    0  ...     0    0   \n",
      "187   2711     0    0    0     0    0    0    0     0    0  ...     0    0   \n",
      "188     54     0    0    0     0    0    0    0     0    0  ...     0    0   \n",
      "189      4     0    0    0     0    0    0    0     0    0  ...     0    0   \n",
      "190      0     0    0    0     0    0    0    0     0    0  ...     0    0   \n",
      "191      0     0    0    0     0    0    0    0     0    0  ...     0    0   \n",
      "192      0     0    0    0     0    0    0    0     0    0  ...     0    0   \n",
      "193      0     0    0    0     0    0    0    0     0    0  ...     0    0   \n",
      "194      0     0    7    0     0    0    0    0     0    0  ...     0    0   \n",
      "195   3423     0    4    0     1    0    0    0     0    0  ...     0    0   \n",
      "196     19     0    0    0     0    0    0    0     0    0  ...     0    0   \n",
      "197      0     0    0    0     0    0    0    0     0    0  ...     0    0   \n",
      "198      0     0    0    0     0    0    0    0     0    0  ...     0    0   \n",
      "199      0     0    0    0     0    0    0    0     0    0  ...     0    0   \n",
      "200   1497     0    1    0    27    0    0    0   194    0  ...     0    0   \n",
      "201      0     0    0    0     0    0    0    0     0    0  ...     0    0   \n",
      "202   9752  2256  321    0   272    0    2    1    42    0  ...    41    0   \n",
      "203      0     0    0    0     0    0    0    0     0    0  ...     0    0   \n",
      "204   1466  1738  131    1   130    0    3   59  1993    0  ...     0    3   \n",
      "205      0     0    0    0     0    0    0    1     0    0  ...     0    0   \n",
      "206     26     0    0    0     0    0    0    0     0    0  ...     0    0   \n",
      "207      0     0    0    0     0    0    0    0     0    0  ...     0    0   \n",
      "208     10     0    1    0     0    0    0    0     0    0  ...     1    0   \n",
      "209      0     0    0    0     0    0    0    0     0    0  ...     0    0   \n",
      "210      0     0    0    0     0    0    0    0     0    0  ...     0    0   \n",
      "211      0     0    1    0     0    0    0    0     0    0  ...     0    0   \n",
      "212      1     0    0    0     0    0    0    0     0    0  ...     0    0   \n",
      "213      0     0    0    0     1    0    0    0     0    0  ...     0    0   \n",
      "\n",
      "      206  207   208   209    210  211  212   213  \n",
      "0       0    0     0     0      0    0    0     0  \n",
      "1       4    0     0     0      0    0    0     0  \n",
      "2       0    0     0     0  90000    5    0     0  \n",
      "3       0    0     0     0      0    0    0     0  \n",
      "4       0    0     0     0     18    0    7     0  \n",
      "5       0    0     0     0      0    0    0     0  \n",
      "6       0    0     0     0      0    0    0     0  \n",
      "7       0    0     1     0      0   15    0     2  \n",
      "8       0    0     0     0      0    3    0     0  \n",
      "9       0    0     0     0      0    0    0     0  \n",
      "10     30    1    15   126      0   18   10  1021  \n",
      "11    128    0     0    27      0   58    3    22  \n",
      "12      0    0     0     0      0    4    0     0  \n",
      "13      0    0     0     0      0    0    0     0  \n",
      "14      0    0     0     0      0    9    0     0  \n",
      "15      0    0     0     0      0    2    0     0  \n",
      "16      0    0     0     0      0    0    0     0  \n",
      "17      0    0     0     0      0   33    0     0  \n",
      "18     32    0     6    40      0   24    1     1  \n",
      "19      0    0     0     0      0    0    0     0  \n",
      "20      0    0     0     0      0    0    0     0  \n",
      "21      0    0     0     0      0    0    0     0  \n",
      "22      0    0     0     0      0    0    0     0  \n",
      "23      0    0     1     0      0    0    0     0  \n",
      "24      0    0     0     0      0    0    0     0  \n",
      "25      0    0     0     0      0    0    0   693  \n",
      "26      0    0    30     4      0    0    0     4  \n",
      "27      0    0     0     0      0    0    0     0  \n",
      "28      0    0     0     0      0    0    0     0  \n",
      "29      0    0     0     0      0   10    1     0  \n",
      "..    ...  ...   ...   ...    ...  ...  ...   ...  \n",
      "184   886    0     6    78      0  929   10    28  \n",
      "185    50    0     3  1084      8  339    0    13  \n",
      "186     0    0     0     0      0   40    0     0  \n",
      "187     2    0     0     0      0    0    0     0  \n",
      "188     1    0     0   264      0   19    0     0  \n",
      "189     0    0     0     0      0    0    0     0  \n",
      "190     0    0     0     0      0    0    0     0  \n",
      "191     0    0     0     0      0    0    0     0  \n",
      "192     0    0     0     0      0    0    0     0  \n",
      "193     0    0     1     0      0    0    0     0  \n",
      "194     0    0     0     0      0    0    0     0  \n",
      "195    50    0     0     0      0  156    0     0  \n",
      "196     0    0     0     0      0    0    0     0  \n",
      "197     0    0     0     0      0    0    0     0  \n",
      "198     0    0     0     0      0    0    0     0  \n",
      "199     0    0     0     0      0   27    1     0  \n",
      "200    55    0     0     0      0    3    0     1  \n",
      "201     0    0     0     0      0    0    0     0  \n",
      "202    68    0    29   738     11  356   69  8790  \n",
      "203     0    0     0     0      0    0    0     0  \n",
      "204  1298    0  5519   264      0  509   44  1163  \n",
      "205     0    0     4     0      0    0    0     1  \n",
      "206     0    0     0     0      0    0    0     0  \n",
      "207     0    0     0     0      0    0    0     0  \n",
      "208     0    0     0     0     11    0    0     0  \n",
      "209     0    0     0     0      0    0    0     0  \n",
      "210     0    0     0     0      0    0    0     0  \n",
      "211     0    0     0    15      0    0    0     0  \n",
      "212     0    0     0     0      0    0    0     7  \n",
      "213     0    0     0     0      0    0    0     0  \n",
      "\n",
      "[214 rows x 214 columns]\n"
     ]
    }
   ],
   "source": [
    "#print(sorted(yearInfo['1975']['Asylum_Countpercountry'].items(), key=lambda item: item[1],reverse=True)\n",
    "\n",
    "print(yearInfo['2016']['matrix_without_names'])"
   ]
  },
  {
   "cell_type": "code",
   "execution_count": 21,
   "metadata": {},
   "outputs": [],
   "source": [
    "#Clean one matrix to use again\n",
    "CleanMatrix= yearInfo['2016']['matrix_with_names']\n",
    "for indexRow, country_name_row in country_names.iterrows():   \n",
    "    for indexColumn, country_name_colums in country_names.iterrows():\n",
    "        CleanMatrix[country_name_row['Country']][country_name_colums['Country']]= 0"
   ]
  },
  {
   "cell_type": "code",
   "execution_count": null,
   "metadata": {},
   "outputs": [],
   "source": [
    "for year in yearInfo:\n",
    "    languageDataMatrix= CleanMatrix\n",
    "    \n",
    "    for indexRow, country_name_row in country_names.iterrows(): \n",
    "        \n",
    "        for indexColumn, country_name_colums in country_names.iterrows():\n",
    "            language_value = country_adjacency[(country_name_row['Country'])][(country_name_colums['Country'])]\n",
    "            refugee_value =yearInfo[year]['normalized_with_names'][(country_name_row['Country'])][(country_name_colums['Country'])]\n",
    "            connection_value =refugee_value-language_value  \n",
    "            connection =max(0, connection_value)\n",
    "            #print('connection: '+str(connection))\n",
    "            languageDataMatrix[(country_name_row['Country'])][(country_name_colums['Country'])]=connection\n",
    "            \n",
    "    yearInfo[year]['relation_to_languageData'] = languageDataMatrix"
   ]
  },
  {
   "cell_type": "code",
   "execution_count": null,
   "metadata": {},
   "outputs": [],
   "source": [
    "#set year we want to look at.\n",
    "year = '2010'\n",
    "test = nx.from_pandas_adjacency(yearInfo[year]['relation_to_languageData'], create_using=nx.DiGraph())\n",
    "\n",
    "refugee_year_no_name=yearInfo[year]['matrix_without_names']\n",
    "#print(refugee_2016)\n",
    "\n",
    "refugee_year=yearInfo[year]['matrix_with_names']\n",
    "#print(refugee_2016['Afghanistan'])\n",
    "\n",
    " \n",
    "refugee_year = refugee_year.div(refugee_year.sum(axis=0), axis=1)\n",
    "#print(refugee_2016['Afghanistan'])\n",
    "refugee_year.fillna(0, inplace=True)\n",
    "refugee_year.head()\n"
   ]
  },
  {
   "cell_type": "code",
   "execution_count": null,
   "metadata": {},
   "outputs": [],
   "source": [
    "communities = nx.community.asyn_lpa_communities(yearInfo[year]['graph'])\n",
    "for community in communities:\n",
    "    print(community)\n",
    "\n",
    "CalculateMetrics(yearInfo[year]['graph_no_index'],\"Refugee\",yearInfo[year]['matrix_without_names'])"
   ]
  },
  {
   "cell_type": "code",
   "execution_count": null,
   "metadata": {},
   "outputs": [],
   "source": [
    "nodes_to_remove = list(nx.isolates(yearInfo[year]['graph']))\n",
    "yearInfo[year]['graph'].remove_nodes_from(nodes_to_remove)\n",
    "print(nx.info(yearInfo[year]['graph']))"
   ]
  },
  {
   "cell_type": "code",
   "execution_count": null,
   "metadata": {},
   "outputs": [],
   "source": [
    "G.remove_nodes_from(nodes_to_remove)\n",
    "print(nx.info(G))"
   ]
  },
  {
   "cell_type": "code",
   "execution_count": null,
   "metadata": {},
   "outputs": [],
   "source": [
    "plt.figure(figsize=(15,15))\n",
    "pos = nx.spring_layout(yearInfo[year]['graph'])\n",
    "nx.draw_networkx_nodes(yearInfo[year]['graph'], pos, alpha=0.1)\n",
    "nx.draw_networkx_labels(yearInfo[year]['graph'], pos)\n",
    "nx.draw_networkx_edges(yearInfo[year]['graph'], pos)\n",
    "plt.show()"
   ]
  },
  {
   "cell_type": "code",
   "execution_count": null,
   "metadata": {},
   "outputs": [],
   "source": [
    "plt.figure(figsize=(15,15))\n",
    "pos = nx.spring_layout(G)\n",
    "nx.draw_networkx_nodes(G, pos, alpha=0.1)\n",
    "nx.draw_networkx_labels(G, pos)\n",
    "nx.draw_networkx_edges(G, pos, alpha=0.1)\n",
    "plt.show()"
   ]
  }
 ],
 "metadata": {
  "kernelspec": {
   "display_name": "Python 3",
   "language": "python",
   "name": "python3"
  },
  "language_info": {
   "codemirror_mode": {
    "name": "ipython",
    "version": 3
   },
   "file_extension": ".py",
   "mimetype": "text/x-python",
   "name": "python",
   "nbconvert_exporter": "python",
   "pygments_lexer": "ipython3",
   "version": "3.7.1"
  }
 },
 "nbformat": 4,
 "nbformat_minor": 2
}
